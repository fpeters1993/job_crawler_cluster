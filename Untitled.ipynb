{
 "cells": [
  {
   "cell_type": "code",
   "execution_count": 1,
   "metadata": {},
   "outputs": [],
   "source": [
    "import urllib\n",
    "import requests\n",
    "from bs4 import BeautifulSoup\n",
    "import selenium\n",
    "from selenium import webdriver\n",
    "from selenium.webdriver.support.ui import WebDriverWait\n",
    "import pandas as pd\n",
    "import os"
   ]
  },
  {
   "cell_type": "code",
   "execution_count": 2,
   "metadata": {},
   "outputs": [],
   "source": [
    "#/usr/lib/chromium-browser/\n",
    "\n",
    "driver = webdriver.Firefox(executable_path='/home/finn/Downloads/geckodriver')"
   ]
  },
  {
   "cell_type": "code",
   "execution_count": 15,
   "metadata": {},
   "outputs": [],
   "source": [
    "driver.get('https://www.service.bund.de/Content/DE/Stellen/Suche/Formular.html?nn=4642046&type=0&submit=Finden&cl2Categories_Laufbahn=laufbahn-gehobenerdienst&city_zipcode=Hamburg')"
   ]
  },
  {
   "cell_type": "code",
   "execution_count": 12,
   "metadata": {},
   "outputs": [],
   "source": [
    "page = driver.page_source"
   ]
  },
  {
   "cell_type": "code",
   "execution_count": 14,
   "metadata": {},
   "outputs": [],
   "source": [
    "job_soup = BeautifulSoup(page, \"html.parser\")"
   ]
  },
  {
   "cell_type": "code",
   "execution_count": 44,
   "metadata": {},
   "outputs": [],
   "source": [
    "liste = job_soup.find('ul', class_='result-list')"
   ]
  },
  {
   "cell_type": "code",
   "execution_count": 20,
   "metadata": {},
   "outputs": [],
   "source": [
    "def get_content():\n",
    "    driver = webdriver.Firefox(executable_path='/home/finn/Downloads/geckodriver')\n",
    "    driver.get('https://www.service.bund.de/Content/DE/Stellen/Suche/Formular.html?nn=4642046&type=0&submit=Finden&cl2Categories_Laufbahn=laufbahn-gehobenerdienst&city_zipcode=Hamburg')\n",
    "    page = driver.page_source\n",
    "    job_soup = BeautifulSoup(page, \"html.parser\")\n",
    "    liste = job_soup.find('ul', class_='result-list')\n",
    "    return liste"
   ]
  },
  {
   "cell_type": "code",
   "execution_count": 45,
   "metadata": {},
   "outputs": [],
   "source": [
    "test = liste.find_all('a')\n",
    "    #link = 'https://www.service.bund.de/' + link"
   ]
  },
  {
   "cell_type": "code",
   "execution_count": 53,
   "metadata": {},
   "outputs": [
    {
     "name": "stdout",
     "output_type": "stream",
     "text": [
      "IMPORTE/Stellenangebote/bundeswehr/2020/04/B750141QA-2020-00002660-B.html;jsessionid=040CF796024FFAE8DE750C9237E1DAC2.2_cid288?nn=4642046&type=0&searchResult=true\n",
      " 'Informationstechnikerin/Informationstechniker (m/w/d)'\n",
      "IMPORTE/Stellenangebote/interamt/2020/04/586390.html;jsessionid=040CF796024FFAE8DE750C9237E1DAC2.2_cid288?nn=4642046&type=0&searchResult=true\n",
      " '063/2020 Sachbearbeitung EG9a Außenstellen'\n",
      "IMPORTE/Stellenangebote/editor/Behoerde-fuer-Umwelt-und-Energie-der-Freien-und-Hansestadt-Hamburg/2020/04/3402256.html;jsessionid=040CF796024FFAE8DE750C9237E1DAC2.2_cid288?nn=4642046&type=0&searchResult=true\n",
      " 'Referentin bzw. Referent (m/w/d) für Landschafts- und Freiraumplanung'\n",
      "IMPORTE/Stellenangebote/bundeswehr/2020/04/B750141QA-2020-00002552-B.html;jsessionid=040CF796024FFAE8DE750C9237E1DAC2.2_cid288?nn=4642046&type=0&searchResult=true\n",
      " 'Gesundheits-und Krankenpflegerin (m/w/d)'\n",
      "IMPORTE/Stellenangebote/editor/Deutsche-Rentenversicherung-Nord-Ost-West-Informationstechnik-GmbH/2020/04/3397336.html;jsessionid=040CF796024FFAE8DE750C9237E1DAC2.2_cid288?nn=4642046&type=0&searchResult=true\n",
      " 'IT-Administrator IT-Sicherheit (w/m/d)'\n",
      "IMPORTE/Stellenangebote/editor/Informationstechnikzentrum-Bund-ITZBund/2020/04/3398045.html;jsessionid=040CF796024FFAE8DE750C9237E1DAC2.2_cid288?nn=4642046&type=0&searchResult=true\n",
      " 'Softwareentwickler/Softwareentwicklerin (Schwerpunkt JEE/JSF-Entwicklung) (w/m/d)'\n",
      "IMPORTE/Stellenangebote/interamt/2020/04/585478.html;jsessionid=040CF796024FFAE8DE750C9237E1DAC2.2_cid288?nn=4642046&type=0&searchResult=true\n",
      " 'Ingenieurin / Ingenieur (FH-Diplom/Bachelor) (m/w/d)'\n",
      "IMPORTE/Stellenangebote/interamt/2020/04/585387.html;jsessionid=040CF796024FFAE8DE750C9237E1DAC2.2_cid288?nn=4642046&type=0&searchResult=true\n",
      " 'Bauingenieur (w/m/d) Fachrichtung Straßenbauplanung / Baudurchführung'\n",
      "IMPORTE/Stellenangebote/interamt/2020/04/584655.html;jsessionid=040CF796024FFAE8DE750C9237E1DAC2.2_cid288?nn=4642046&type=0&searchResult=true\n",
      " 'Sachbearbeiterin / Sachbearbeiter (m/w/d) des gehobenen nichttechnischen Verwaltungsdienstes'\n",
      "IMPORTE/Stellenangebote/editor/Deutsche-Rentenversicherung-Nord/2020/04/3389993.html;jsessionid=040CF796024FFAE8DE750C9237E1DAC2.2_cid288?nn=4642046&type=0&searchResult=true\n",
      " 'Duales Studium bei der Deutschen Rentenversicherung Nord im Großraum Hamburg – Bewerbungsschluss 31.05.2020'\n"
     ]
    }
   ],
   "source": [
    "for i in test:\n",
    "    print(i['href'])\n",
    "    print(i['title'].replace('Zur Detailseite', ''))"
   ]
  },
  {
   "cell_type": "code",
   "execution_count": 179,
   "metadata": {},
   "outputs": [],
   "source": [
    "def extract_information():\n",
    "    job_df = pd.DataFrame(columns=['link', 'titel', 'Text'])\n",
    "    counter = 0\n",
    "    get_content()\n",
    "    driver = webdriver.Firefox(executable_path='/home/finn/Downloads/geckodriver')\n",
    "    liste_detail = liste.find_all('a')\n",
    "    for link in liste_detail:\n",
    "        link_new = 'https://www.service.bund.de/' + link['href']\n",
    "        title = link['title'].replace('Zur Detailseite', '')\n",
    "        job_df.loc[counter, 'link' ] = link_new\n",
    "        job_df.loc[counter, 'titel'] = title\n",
    "        driver.get(link_new)\n",
    "        page = driver.page_source\n",
    "        job_soup = BeautifulSoup(page, \"html.parser\")\n",
    "        detail = job_soup.find_all('section')\n",
    "        job_df.loc[counter, 'Text'] = detail[4]\n",
    "        counter +=1\n",
    "    return job_df\n",
    "        \n",
    "            "
   ]
  },
  {
   "cell_type": "code",
   "execution_count": 180,
   "metadata": {},
   "outputs": [],
   "source": [
    "df = extract_information()"
   ]
  },
  {
   "cell_type": "code",
   "execution_count": 181,
   "metadata": {},
   "outputs": [
    {
     "data": {
      "text/html": [
       "<div>\n",
       "<style scoped>\n",
       "    .dataframe tbody tr th:only-of-type {\n",
       "        vertical-align: middle;\n",
       "    }\n",
       "\n",
       "    .dataframe tbody tr th {\n",
       "        vertical-align: top;\n",
       "    }\n",
       "\n",
       "    .dataframe thead th {\n",
       "        text-align: right;\n",
       "    }\n",
       "</style>\n",
       "<table border=\"1\" class=\"dataframe\">\n",
       "  <thead>\n",
       "    <tr style=\"text-align: right;\">\n",
       "      <th></th>\n",
       "      <th>link</th>\n",
       "      <th>titel</th>\n",
       "      <th>Text</th>\n",
       "    </tr>\n",
       "  </thead>\n",
       "  <tbody>\n",
       "    <tr>\n",
       "      <th>0</th>\n",
       "      <td>https://www.service.bund.de/IMPORTE/Stellenang...</td>\n",
       "      <td>'Informationstechnikerin/Informationstechnike...</td>\n",
       "      <td>[\\n, [\\n, [Stelleninformationen]], \\n, [\\n, [U...</td>\n",
       "    </tr>\n",
       "    <tr>\n",
       "      <th>1</th>\n",
       "      <td>https://www.service.bund.de/IMPORTE/Stellenang...</td>\n",
       "      <td>'063/2020 Sachbearbeitung EG9a Außenstellen'</td>\n",
       "      <td>[\\n, [\\n, [ENGAGEMENT GLOBAL],  ist Partnerin ...</td>\n",
       "    </tr>\n",
       "    <tr>\n",
       "      <th>2</th>\n",
       "      <td>https://www.service.bund.de/IMPORTE/Stellenang...</td>\n",
       "      <td>'Referentin bzw. Referent (m/w/d) für Landsch...</td>\n",
       "      <td>[\\n, [Tätigkeitsprofil:], \\n, [Das Amt, [„Natu...</td>\n",
       "    </tr>\n",
       "    <tr>\n",
       "      <th>3</th>\n",
       "      <td>https://www.service.bund.de/IMPORTE/Stellenang...</td>\n",
       "      <td>'Gesundheits-und Krankenpflegerin (m/w/d)'</td>\n",
       "      <td>[\\n, [\\n, [Stelleninformationen]], \\n, [\\n, [U...</td>\n",
       "    </tr>\n",
       "    <tr>\n",
       "      <th>4</th>\n",
       "      <td>https://www.service.bund.de/IMPORTE/Stellenang...</td>\n",
       "      <td>'IT-Administrator IT-Sicherheit (w/m/d)'</td>\n",
       "      <td>[\\n, [Tätigkeitsprofil:], \\n, [Das zum Bereich...</td>\n",
       "    </tr>\n",
       "    <tr>\n",
       "      <th>5</th>\n",
       "      <td>https://www.service.bund.de/IMPORTE/Stellenang...</td>\n",
       "      <td>'Softwareentwickler/Softwareentwicklerin (Sch...</td>\n",
       "      <td>[\\n, [Tätigkeitsprofil:], \\n, [\\n, [Softwareen...</td>\n",
       "    </tr>\n",
       "    <tr>\n",
       "      <th>6</th>\n",
       "      <td>https://www.service.bund.de/IMPORTE/Stellenang...</td>\n",
       "      <td>'Ingenieurin / Ingenieur (FH-Diplom/Bachelor)...</td>\n",
       "      <td>[\\n, [\\n, [Ingenieurin / Ingenieur (FH-Diplom/...</td>\n",
       "    </tr>\n",
       "    <tr>\n",
       "      <th>7</th>\n",
       "      <td>https://www.service.bund.de/IMPORTE/Stellenang...</td>\n",
       "      <td>'Bauingenieur (w/m/d) Fachrichtung Straßenbau...</td>\n",
       "      <td>[\\n, [Im September 2018 wurde die Autobahn Gmb...</td>\n",
       "    </tr>\n",
       "    <tr>\n",
       "      <th>8</th>\n",
       "      <td>https://www.service.bund.de/IMPORTE/Stellenang...</td>\n",
       "      <td>'Sachbearbeiterin / Sachbearbeiter (m/w/d) de...</td>\n",
       "      <td>[\\n, [S, [achbearbeiterin / Sachbearbeiter (m/...</td>\n",
       "    </tr>\n",
       "    <tr>\n",
       "      <th>9</th>\n",
       "      <td>https://www.service.bund.de/IMPORTE/Stellenang...</td>\n",
       "      <td>'Duales Studium bei der Deutschen Rentenversi...</td>\n",
       "      <td>[\\n, [Tätigkeitsprofil:], \\n, [\\n, [„Karriere ...</td>\n",
       "    </tr>\n",
       "  </tbody>\n",
       "</table>\n",
       "</div>"
      ],
      "text/plain": [
       "                                                link  \\\n",
       "0  https://www.service.bund.de/IMPORTE/Stellenang...   \n",
       "1  https://www.service.bund.de/IMPORTE/Stellenang...   \n",
       "2  https://www.service.bund.de/IMPORTE/Stellenang...   \n",
       "3  https://www.service.bund.de/IMPORTE/Stellenang...   \n",
       "4  https://www.service.bund.de/IMPORTE/Stellenang...   \n",
       "5  https://www.service.bund.de/IMPORTE/Stellenang...   \n",
       "6  https://www.service.bund.de/IMPORTE/Stellenang...   \n",
       "7  https://www.service.bund.de/IMPORTE/Stellenang...   \n",
       "8  https://www.service.bund.de/IMPORTE/Stellenang...   \n",
       "9  https://www.service.bund.de/IMPORTE/Stellenang...   \n",
       "\n",
       "                                               titel  \\\n",
       "0   'Informationstechnikerin/Informationstechnike...   \n",
       "1       '063/2020 Sachbearbeitung EG9a Außenstellen'   \n",
       "2   'Referentin bzw. Referent (m/w/d) für Landsch...   \n",
       "3         'Gesundheits-und Krankenpflegerin (m/w/d)'   \n",
       "4           'IT-Administrator IT-Sicherheit (w/m/d)'   \n",
       "5   'Softwareentwickler/Softwareentwicklerin (Sch...   \n",
       "6   'Ingenieurin / Ingenieur (FH-Diplom/Bachelor)...   \n",
       "7   'Bauingenieur (w/m/d) Fachrichtung Straßenbau...   \n",
       "8   'Sachbearbeiterin / Sachbearbeiter (m/w/d) de...   \n",
       "9   'Duales Studium bei der Deutschen Rentenversi...   \n",
       "\n",
       "                                                Text  \n",
       "0  [\\n, [\\n, [Stelleninformationen]], \\n, [\\n, [U...  \n",
       "1  [\\n, [\\n, [ENGAGEMENT GLOBAL],  ist Partnerin ...  \n",
       "2  [\\n, [Tätigkeitsprofil:], \\n, [Das Amt, [„Natu...  \n",
       "3  [\\n, [\\n, [Stelleninformationen]], \\n, [\\n, [U...  \n",
       "4  [\\n, [Tätigkeitsprofil:], \\n, [Das zum Bereich...  \n",
       "5  [\\n, [Tätigkeitsprofil:], \\n, [\\n, [Softwareen...  \n",
       "6  [\\n, [\\n, [Ingenieurin / Ingenieur (FH-Diplom/...  \n",
       "7  [\\n, [Im September 2018 wurde die Autobahn Gmb...  \n",
       "8  [\\n, [S, [achbearbeiterin / Sachbearbeiter (m/...  \n",
       "9  [\\n, [Tätigkeitsprofil:], \\n, [\\n, [„Karriere ...  "
      ]
     },
     "execution_count": 181,
     "metadata": {},
     "output_type": "execute_result"
    }
   ],
   "source": [
    "df"
   ]
  },
  {
   "cell_type": "code",
   "execution_count": 182,
   "metadata": {},
   "outputs": [],
   "source": [
    "import re\n",
    "\n",
    "def remove_html_tags(text):\n",
    "    \"\"\"Remove html tags from a string\"\"\"\n",
    "    clean = re.compile('<.*?>')\n",
    "    return re.sub(clean, '', text)\n"
   ]
  },
  {
   "cell_type": "code",
   "execution_count": 190,
   "metadata": {},
   "outputs": [
    {
     "data": {
      "text/plain": [
       "0  0                                                      \n",
       "   1                          [\\n, [Stelleninformationen]]\n",
       "   2                                                      \n",
       "   3                                   [\\n, [Unternehmen]]\n",
       "   4                                                      \n",
       "                               ...                        \n",
       "9  56                                                     \n",
       "   57    [Bei Rückfragen stehen wir Ihnen gerne unter d...\n",
       "   58                                                     \n",
       "   59    [\\n, [Ein modernes und kundenorientiertes Dien...\n",
       "   60                                                     \n",
       "Length: 482, dtype: object"
      ]
     },
     "execution_count": 190,
     "metadata": {},
     "output_type": "execute_result"
    }
   ],
   "source": [
    "df['Text'].apply(pd.Series).stack().replace('\\n', '').dr"
   ]
  },
  {
   "cell_type": "code",
   "execution_count": 154,
   "metadata": {},
   "outputs": [
    {
     "ename": "TypeError",
     "evalue": "expected string or bytes-like object",
     "output_type": "error",
     "traceback": [
      "\u001b[0;31m---------------------------------------------------------------------------\u001b[0m",
      "\u001b[0;31mTypeError\u001b[0m                                 Traceback (most recent call last)",
      "\u001b[0;32m<ipython-input-154-d409731810ee>\u001b[0m in \u001b[0;36m<module>\u001b[0;34m\u001b[0m\n\u001b[1;32m      1\u001b[0m \u001b[0;32mfor\u001b[0m \u001b[0mi\u001b[0m \u001b[0;32min\u001b[0m \u001b[0mdf\u001b[0m\u001b[0;34m.\u001b[0m\u001b[0mindex\u001b[0m\u001b[0;34m:\u001b[0m\u001b[0;34m\u001b[0m\u001b[0;34m\u001b[0m\u001b[0m\n\u001b[0;32m----> 2\u001b[0;31m     \u001b[0mdf\u001b[0m\u001b[0;34m.\u001b[0m\u001b[0miloc\u001b[0m\u001b[0;34m[\u001b[0m\u001b[0mi\u001b[0m\u001b[0;34m]\u001b[0m\u001b[0;34m[\u001b[0m\u001b[0;34m'Text'\u001b[0m\u001b[0;34m]\u001b[0m \u001b[0;34m=\u001b[0m \u001b[0mremove_html_tags\u001b[0m\u001b[0;34m(\u001b[0m\u001b[0mdf\u001b[0m\u001b[0;34m.\u001b[0m\u001b[0miloc\u001b[0m\u001b[0;34m[\u001b[0m\u001b[0mi\u001b[0m\u001b[0;34m]\u001b[0m\u001b[0;34m[\u001b[0m\u001b[0;34m'Text'\u001b[0m\u001b[0;34m]\u001b[0m\u001b[0;34m)\u001b[0m\u001b[0;34m\u001b[0m\u001b[0;34m\u001b[0m\u001b[0m\n\u001b[0m",
      "\u001b[0;32m<ipython-input-124-3d73f8bc85a5>\u001b[0m in \u001b[0;36mremove_html_tags\u001b[0;34m(text)\u001b[0m\n\u001b[1;32m      4\u001b[0m     \u001b[0;34m\"\"\"Remove html tags from a string\"\"\"\u001b[0m\u001b[0;34m\u001b[0m\u001b[0;34m\u001b[0m\u001b[0m\n\u001b[1;32m      5\u001b[0m     \u001b[0mclean\u001b[0m \u001b[0;34m=\u001b[0m \u001b[0mre\u001b[0m\u001b[0;34m.\u001b[0m\u001b[0mcompile\u001b[0m\u001b[0;34m(\u001b[0m\u001b[0;34m'<.*?>'\u001b[0m\u001b[0;34m)\u001b[0m\u001b[0;34m\u001b[0m\u001b[0;34m\u001b[0m\u001b[0m\n\u001b[0;32m----> 6\u001b[0;31m     \u001b[0;32mreturn\u001b[0m \u001b[0mre\u001b[0m\u001b[0;34m.\u001b[0m\u001b[0msub\u001b[0m\u001b[0;34m(\u001b[0m\u001b[0mclean\u001b[0m\u001b[0;34m,\u001b[0m \u001b[0;34m''\u001b[0m\u001b[0;34m,\u001b[0m \u001b[0mtext\u001b[0m\u001b[0;34m)\u001b[0m\u001b[0;34m\u001b[0m\u001b[0;34m\u001b[0m\u001b[0m\n\u001b[0m\u001b[1;32m      7\u001b[0m \u001b[0;32mdef\u001b[0m \u001b[0mremove_new_line\u001b[0m\u001b[0;34m(\u001b[0m\u001b[0mtext\u001b[0m\u001b[0;34m)\u001b[0m\u001b[0;34m:\u001b[0m\u001b[0;34m\u001b[0m\u001b[0;34m\u001b[0m\u001b[0m\n\u001b[1;32m      8\u001b[0m     \u001b[0mclean\u001b[0m \u001b[0;34m=\u001b[0m \u001b[0mre\u001b[0m\u001b[0;34m.\u001b[0m\u001b[0mcompile\u001b[0m\u001b[0;34m(\u001b[0m\u001b[0;34m'\\n'\u001b[0m\u001b[0;34m)\u001b[0m\u001b[0;34m\u001b[0m\u001b[0;34m\u001b[0m\u001b[0m\n",
      "\u001b[0;32m~/anaconda3/lib/python3.7/re.py\u001b[0m in \u001b[0;36msub\u001b[0;34m(pattern, repl, string, count, flags)\u001b[0m\n\u001b[1;32m    190\u001b[0m     \u001b[0ma\u001b[0m \u001b[0mcallable\u001b[0m\u001b[0;34m,\u001b[0m \u001b[0mit\u001b[0m\u001b[0;31m'\u001b[0m\u001b[0ms\u001b[0m \u001b[0mpassed\u001b[0m \u001b[0mthe\u001b[0m \u001b[0mMatch\u001b[0m \u001b[0mobject\u001b[0m \u001b[0;32mand\u001b[0m \u001b[0mmust\u001b[0m \u001b[0;32mreturn\u001b[0m\u001b[0;34m\u001b[0m\u001b[0;34m\u001b[0m\u001b[0m\n\u001b[1;32m    191\u001b[0m     a replacement string to be used.\"\"\"\n\u001b[0;32m--> 192\u001b[0;31m     \u001b[0;32mreturn\u001b[0m \u001b[0m_compile\u001b[0m\u001b[0;34m(\u001b[0m\u001b[0mpattern\u001b[0m\u001b[0;34m,\u001b[0m \u001b[0mflags\u001b[0m\u001b[0;34m)\u001b[0m\u001b[0;34m.\u001b[0m\u001b[0msub\u001b[0m\u001b[0;34m(\u001b[0m\u001b[0mrepl\u001b[0m\u001b[0;34m,\u001b[0m \u001b[0mstring\u001b[0m\u001b[0;34m,\u001b[0m \u001b[0mcount\u001b[0m\u001b[0;34m)\u001b[0m\u001b[0;34m\u001b[0m\u001b[0;34m\u001b[0m\u001b[0m\n\u001b[0m\u001b[1;32m    193\u001b[0m \u001b[0;34m\u001b[0m\u001b[0m\n\u001b[1;32m    194\u001b[0m \u001b[0;32mdef\u001b[0m \u001b[0msubn\u001b[0m\u001b[0;34m(\u001b[0m\u001b[0mpattern\u001b[0m\u001b[0;34m,\u001b[0m \u001b[0mrepl\u001b[0m\u001b[0;34m,\u001b[0m \u001b[0mstring\u001b[0m\u001b[0;34m,\u001b[0m \u001b[0mcount\u001b[0m\u001b[0;34m=\u001b[0m\u001b[0;36m0\u001b[0m\u001b[0;34m,\u001b[0m \u001b[0mflags\u001b[0m\u001b[0;34m=\u001b[0m\u001b[0;36m0\u001b[0m\u001b[0;34m)\u001b[0m\u001b[0;34m:\u001b[0m\u001b[0;34m\u001b[0m\u001b[0;34m\u001b[0m\u001b[0m\n",
      "\u001b[0;31mTypeError\u001b[0m: expected string or bytes-like object"
     ]
    }
   ],
   "source": [
    "for i in df.index:\n",
    "    df.iloc[i]['Text'] = remove_html_tags(df.iloc[i]['Text'])"
   ]
  },
  {
   "cell_type": "code",
   "execution_count": 167,
   "metadata": {},
   "outputs": [
    {
     "data": {
      "text/plain": [
       "0    [\\n, [\\n, [Stelleninformationen]], \\n, [\\n, [U...\n",
       "1    [\\n, [\\n, [ENGAGEMENT GLOBAL],  ist Partnerin ...\n",
       "2    [\\n, [Tätigkeitsprofil:], \\n, [Das Amt, [„Natu...\n",
       "3    [\\n, [\\n, [Stelleninformationen]], \\n, [\\n, [U...\n",
       "4    [\\n, [Tätigkeitsprofil:], \\n, [Das zum Bereich...\n",
       "5    [\\n, [Tätigkeitsprofil:], \\n, [\\n, [Softwareen...\n",
       "6    [\\n, [\\n, [Ingenieurin / Ingenieur (FH-Diplom/...\n",
       "7    [\\n, [Im September 2018 wurde die Autobahn Gmb...\n",
       "8    [\\n, [S, [achbearbeiterin / Sachbearbeiter (m/...\n",
       "9    [\\n, [Tätigkeitsprofil:], \\n, [\\n, [„Karriere ...\n",
       "Name: Text, dtype: object"
      ]
     },
     "execution_count": 167,
     "metadata": {},
     "output_type": "execute_result"
    }
   ],
   "source": [
    "df['Text']"
   ]
  },
  {
   "cell_type": "code",
   "execution_count": null,
   "metadata": {},
   "outputs": [],
   "source": []
  }
 ],
 "metadata": {
  "kernelspec": {
   "display_name": "Python 3",
   "language": "python",
   "name": "python3"
  },
  "language_info": {
   "codemirror_mode": {
    "name": "ipython",
    "version": 3
   },
   "file_extension": ".py",
   "mimetype": "text/x-python",
   "name": "python",
   "nbconvert_exporter": "python",
   "pygments_lexer": "ipython3",
   "version": "3.7.7"
  }
 },
 "nbformat": 4,
 "nbformat_minor": 4
}
